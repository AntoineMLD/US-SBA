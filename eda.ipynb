{
 "cells": [
  {
   "cell_type": "code",
   "execution_count": 551,
   "metadata": {},
   "outputs": [],
   "source": [
    "import pandas as pd\n",
    "import numpy as np"
   ]
  },
  {
   "cell_type": "code",
   "execution_count": 552,
   "metadata": {},
   "outputs": [
    {
     "data": {
      "text/html": [
       "<div>\n",
       "<style scoped>\n",
       "    .dataframe tbody tr th:only-of-type {\n",
       "        vertical-align: middle;\n",
       "    }\n",
       "\n",
       "    .dataframe tbody tr th {\n",
       "        vertical-align: top;\n",
       "    }\n",
       "\n",
       "    .dataframe thead th {\n",
       "        text-align: right;\n",
       "    }\n",
       "</style>\n",
       "<table border=\"1\" class=\"dataframe\">\n",
       "  <thead>\n",
       "    <tr style=\"text-align: right;\">\n",
       "      <th></th>\n",
       "      <th>LoanNr_ChkDgt</th>\n",
       "      <th>Name</th>\n",
       "      <th>City</th>\n",
       "      <th>State</th>\n",
       "      <th>Zip</th>\n",
       "      <th>Bank</th>\n",
       "      <th>BankState</th>\n",
       "      <th>NAICS</th>\n",
       "      <th>ApprovalDate</th>\n",
       "      <th>ApprovalFY</th>\n",
       "      <th>Term</th>\n",
       "      <th>NoEmp</th>\n",
       "      <th>NewExist</th>\n",
       "      <th>CreateJob</th>\n",
       "      <th>RetainedJob</th>\n",
       "      <th>FranchiseCode</th>\n",
       "      <th>UrbanRural</th>\n",
       "      <th>RevLineCr</th>\n",
       "      <th>LowDoc</th>\n",
       "      <th>ChgOffDate</th>\n",
       "      <th>DisbursementDate</th>\n",
       "      <th>DisbursementGross</th>\n",
       "      <th>BalanceGross</th>\n",
       "      <th>MIS_Status</th>\n",
       "      <th>ChgOffPrinGr</th>\n",
       "      <th>GrAppv</th>\n",
       "      <th>SBA_Appv</th>\n",
       "    </tr>\n",
       "  </thead>\n",
       "  <tbody>\n",
       "    <tr>\n",
       "      <th>0</th>\n",
       "      <td>1000014003</td>\n",
       "      <td>ABC HOBBYCRAFT</td>\n",
       "      <td>EVANSVILLE</td>\n",
       "      <td>IN</td>\n",
       "      <td>47711</td>\n",
       "      <td>FIFTH THIRD BANK</td>\n",
       "      <td>OH</td>\n",
       "      <td>451120</td>\n",
       "      <td>28-Feb-97</td>\n",
       "      <td>1997</td>\n",
       "      <td>84</td>\n",
       "      <td>4</td>\n",
       "      <td>2</td>\n",
       "      <td>0</td>\n",
       "      <td>0</td>\n",
       "      <td>1</td>\n",
       "      <td>0</td>\n",
       "      <td>N</td>\n",
       "      <td>Y</td>\n",
       "      <td>NaN</td>\n",
       "      <td>28-Feb-99</td>\n",
       "      <td>$60,000.00</td>\n",
       "      <td>$0.00</td>\n",
       "      <td>P I F</td>\n",
       "      <td>$0.00</td>\n",
       "      <td>$60,000.00</td>\n",
       "      <td>$48,000.00</td>\n",
       "    </tr>\n",
       "  </tbody>\n",
       "</table>\n",
       "</div>"
      ],
      "text/plain": [
       "  LoanNr_ChkDgt            Name        City State    Zip              Bank  \\\n",
       "0    1000014003  ABC HOBBYCRAFT  EVANSVILLE    IN  47711  FIFTH THIRD BANK   \n",
       "\n",
       "  BankState   NAICS ApprovalDate ApprovalFY Term NoEmp NewExist CreateJob  \\\n",
       "0        OH  451120    28-Feb-97       1997   84     4        2         0   \n",
       "\n",
       "  RetainedJob FranchiseCode UrbanRural RevLineCr LowDoc ChgOffDate  \\\n",
       "0           0             1          0         N      Y        NaN   \n",
       "\n",
       "  DisbursementDate DisbursementGross BalanceGross MIS_Status ChgOffPrinGr  \\\n",
       "0        28-Feb-99       $60,000.00        $0.00       P I F       $0.00    \n",
       "\n",
       "        GrAppv     SBA_Appv  \n",
       "0  $60,000.00   $48,000.00   "
      ]
     },
     "execution_count": 552,
     "metadata": {},
     "output_type": "execute_result"
    }
   ],
   "source": [
    "df = pd.read_csv('data/SBAnational.csv', dtype='unicode')\n",
    "pd.set_option('display.max_columns', None)\n",
    "df.head(1)"
   ]
  },
  {
   "cell_type": "markdown",
   "metadata": {},
   "source": [
    "# Explication de variables"
   ]
  },
  {
   "cell_type": "markdown",
   "metadata": {},
   "source": [
    "- `DisbursementGross` signifie que plus le montant du prêt est élevé, plus cela signifie que l'entreprise sera établie et en expansion => augmente la probabilité de rembourser le prêt.\n",
    "- `State` suivant l'Etat dans lequel est contracté le prêt, cela impacte le taux de celui-ci \n",
    "\n",
    "<img src=\"data/state.jpg\" />\n",
    "\n",
    "- `NAICS` les 2 premiers chiffres de cette colonne représente un type d'industrie\n",
    "\n",
    "|2 digit code|Description|Default rate (%)|\n",
    "|:----|:----|:----|\n",
    "|21|Mining, quarrying, and oil and gas extraction|8|\n",
    "|11|Agriculture, forestry, fishing and hunting|9|\n",
    "|55|Management of companies and enterprises|10|\n",
    "|62|Health care and social assistance|10|\n",
    "|22|Utilities|14|\n",
    "|92|Public administration|15|\n",
    "|54|Professional, scientific, and technical services|19|\n",
    "|42|Wholesale trade|19|\n",
    "|31–33|Manufacturing|19, 16, 14|\n",
    "|81|Other services (except public administration)|20|\n",
    "|71|Arts, entertainment, and recreation|21|\n",
    "|72|Accommodation and food services|22|\n",
    "|44–45|Retail trade|22, 23|\n",
    "|23|Construction|23|\n",
    "|56|Administrative/support & waste management/remediation Service|24|\n",
    "|61|Educational services|24|\n",
    "|51|Information|25|\n",
    "|48–49|Transportation and warehousing|27, 23|\n",
    "|52|Finance and insurance|28|\n",
    "|53|Real estate and rental and leasing|29|\n",
    "\n",
    "- `NewExist` le fait qu'une entreprise soit nouvelle ou établie. 1 si >= 2 ans, 2 sinon"
   ]
  },
  {
   "cell_type": "markdown",
   "metadata": {},
   "source": [
    "# Copie pour perf"
   ]
  },
  {
   "cell_type": "code",
   "execution_count": 553,
   "metadata": {},
   "outputs": [
    {
     "name": "stdout",
     "output_type": "stream",
     "text": [
      "<class 'pandas.core.frame.DataFrame'>\n",
      "RangeIndex: 899164 entries, 0 to 899163\n",
      "Data columns (total 27 columns):\n",
      " #   Column             Non-Null Count   Dtype \n",
      "---  ------             --------------   ----- \n",
      " 0   LoanNr_ChkDgt      899164 non-null  object\n",
      " 1   Name               899150 non-null  object\n",
      " 2   City               899134 non-null  object\n",
      " 3   State              899150 non-null  object\n",
      " 4   Zip                899164 non-null  object\n",
      " 5   Bank               897605 non-null  object\n",
      " 6   BankState          897598 non-null  object\n",
      " 7   NAICS              899164 non-null  object\n",
      " 8   ApprovalDate       899164 non-null  object\n",
      " 9   ApprovalFY         899164 non-null  object\n",
      " 10  Term               899164 non-null  object\n",
      " 11  NoEmp              899164 non-null  object\n",
      " 12  NewExist           899028 non-null  object\n",
      " 13  CreateJob          899164 non-null  object\n",
      " 14  RetainedJob        899164 non-null  object\n",
      " 15  FranchiseCode      899164 non-null  object\n",
      " 16  UrbanRural         899164 non-null  object\n",
      " 17  RevLineCr          894636 non-null  object\n",
      " 18  LowDoc             896582 non-null  object\n",
      " 19  ChgOffDate         162699 non-null  object\n",
      " 20  DisbursementDate   896796 non-null  object\n",
      " 21  DisbursementGross  899164 non-null  object\n",
      " 22  BalanceGross       899164 non-null  object\n",
      " 23  MIS_Status         897167 non-null  object\n",
      " 24  ChgOffPrinGr       899164 non-null  object\n",
      " 25  GrAppv             899164 non-null  object\n",
      " 26  SBA_Appv           899164 non-null  object\n",
      "dtypes: object(27)\n",
      "memory usage: 185.2+ MB\n"
     ]
    }
   ],
   "source": [
    "df_sba = df.copy()\n",
    "df_sba.info()"
   ]
  },
  {
   "cell_type": "markdown",
   "metadata": {},
   "source": [
    "# nettoyage et formatage des data"
   ]
  },
  {
   "cell_type": "code",
   "execution_count": 554,
   "metadata": {},
   "outputs": [],
   "source": [
    "def transform_curracy(df, columns):\n",
    "    for col in columns:\n",
    "        df[col] = df[col].replace(r'[\\$ ,]', '', regex=True).astype(float)\n",
    "\n",
    "def transform_date(df, columns, format='%d-%b-%y'):\n",
    "    for col in columns:\n",
    "        try:\n",
    "            df[col] = pd.to_datetime(df[col], format=format, errors='raise')\n",
    "        except ValueError:\n",
    "            print('Erreur sur la date col:', col)\n",
    "            pass\n",
    "\n",
    "transform_curracy(df_sba, ['GrAppv', 'DisbursementGross', 'SBA_Appv', 'ChgOffPrinGr'])\n",
    "transform_date(df_sba, ['ApprovalDate', 'DisbursementDate'])\n",
    "\n",
    "df_sba.NAICS = df_sba.NAICS.astype(str).str[0:2].astype('category')\n",
    "df_sba.ApprovalFY = df_sba.ApprovalFY.astype(str).str[0:4].astype(int)\n",
    "df_sba.Term = df_sba.Term.astype(int)\n",
    "df_sba.NoEmp = df_sba.NoEmp.astype(int)\n",
    "df_sba.CreateJob = df_sba.CreateJob.astype(int)\n",
    "df_sba.RetainedJob = df_sba.RetainedJob.astype(int)\n",
    "df_sba.FranchiseCode = df_sba.FranchiseCode.astype('category')\n",
    "df_sba.UrbanRural = df_sba.UrbanRural.astype('category')\n",
    "\n",
    "df_sba.BankState = df_sba.BankState.astype('category')\n",
    "df_sba.State = df_sba.State.astype('category')\n",
    "df_sba.Zip = df_sba.Zip.astype('category')\n",
    "df_sba.MIS_Status = df_sba.MIS_Status.astype('category')\n"
   ]
  },
  {
   "cell_type": "markdown",
   "metadata": {},
   "source": [
    "## OHE de la target"
   ]
  },
  {
   "cell_type": "code",
   "execution_count": 555,
   "metadata": {},
   "outputs": [],
   "source": [
    "from feature_engine.imputation import CategoricalImputer\n",
    "from sklearn.preprocessing import LabelBinarizer\n",
    "\n",
    "imputer = CategoricalImputer(imputation_method='frequent', variables=['MIS_Status'])\n",
    "df_sba = imputer.fit_transform(df_sba)\n",
    "\n",
    "df_sba.MIS_Status = LabelBinarizer().fit_transform(df_sba.loc[:,['MIS_Status']])\n",
    "df_sba.MIS_Status = df_sba.MIS_Status.astype('category')\n",
    "\n",
    "# display(df_sba.head(2))\n",
    "# df_sba.info()\n"
   ]
  },
  {
   "cell_type": "code",
   "execution_count": 556,
   "metadata": {},
   "outputs": [
    {
     "name": "stderr",
     "output_type": "stream",
     "text": [
      "/var/folders/zp/c97k147160ddnklbfc2rk3hr0000gn/T/ipykernel_3631/3211018845.py:6: FutureWarning: ChainedAssignmentError: behaviour will change in pandas 3.0!\n",
      "You are setting values through chained assignment. Currently this works in certain cases, but when using Copy-on-Write (which will become the default behaviour in pandas 3.0) this will never work to update the original DataFrame or Series, because the intermediate object on which we are setting values will behave as a copy.\n",
      "A typical example is when you are setting values in a column of a DataFrame, like:\n",
      "\n",
      "df[\"col\"][row_indexer] = value\n",
      "\n",
      "Use `df.loc[row_indexer, \"col\"] = values` instead, to perform the assignment in a single step and ensure this keeps updating the original `df`.\n",
      "\n",
      "See the caveats in the documentation: https://pandas.pydata.org/pandas-docs/stable/user_guide/indexing.html#returning-a-view-versus-a-copy\n",
      "\n",
      "  df_sba.FranchiseCode[df_sba.FranchiseCode > 0] = 1\n",
      "/var/folders/zp/c97k147160ddnklbfc2rk3hr0000gn/T/ipykernel_3631/3211018845.py:6: SettingWithCopyWarning: \n",
      "A value is trying to be set on a copy of a slice from a DataFrame\n",
      "\n",
      "See the caveats in the documentation: https://pandas.pydata.org/pandas-docs/stable/user_guide/indexing.html#returning-a-view-versus-a-copy\n",
      "  df_sba.FranchiseCode[df_sba.FranchiseCode > 0] = 1\n"
     ]
    },
    {
     "data": {
      "text/html": [
       "<div>\n",
       "<style scoped>\n",
       "    .dataframe tbody tr th:only-of-type {\n",
       "        vertical-align: middle;\n",
       "    }\n",
       "\n",
       "    .dataframe tbody tr th {\n",
       "        vertical-align: top;\n",
       "    }\n",
       "\n",
       "    .dataframe thead th {\n",
       "        text-align: right;\n",
       "    }\n",
       "</style>\n",
       "<table border=\"1\" class=\"dataframe\">\n",
       "  <thead>\n",
       "    <tr style=\"text-align: right;\">\n",
       "      <th></th>\n",
       "      <th>LoanNr_ChkDgt</th>\n",
       "      <th>Name</th>\n",
       "      <th>City</th>\n",
       "      <th>State</th>\n",
       "      <th>Zip</th>\n",
       "      <th>Bank</th>\n",
       "      <th>BankState</th>\n",
       "      <th>NAICS</th>\n",
       "      <th>ApprovalDate</th>\n",
       "      <th>ApprovalFY</th>\n",
       "      <th>Term</th>\n",
       "      <th>NoEmp</th>\n",
       "      <th>NewExist</th>\n",
       "      <th>CreateJob</th>\n",
       "      <th>RetainedJob</th>\n",
       "      <th>FranchiseCode</th>\n",
       "      <th>UrbanRural</th>\n",
       "      <th>RevLineCr</th>\n",
       "      <th>LowDoc</th>\n",
       "      <th>ChgOffDate</th>\n",
       "      <th>DisbursementDate</th>\n",
       "      <th>DisbursementGross</th>\n",
       "      <th>BalanceGross</th>\n",
       "      <th>MIS_Status</th>\n",
       "      <th>ChgOffPrinGr</th>\n",
       "      <th>GrAppv</th>\n",
       "      <th>SBA_Appv</th>\n",
       "    </tr>\n",
       "  </thead>\n",
       "  <tbody>\n",
       "    <tr>\n",
       "      <th>0</th>\n",
       "      <td>1000014003</td>\n",
       "      <td>ABC HOBBYCRAFT</td>\n",
       "      <td>EVANSVILLE</td>\n",
       "      <td>IN</td>\n",
       "      <td>47711</td>\n",
       "      <td>FIFTH THIRD BANK</td>\n",
       "      <td>OH</td>\n",
       "      <td>45</td>\n",
       "      <td>1997-02-28</td>\n",
       "      <td>1997</td>\n",
       "      <td>84</td>\n",
       "      <td>4</td>\n",
       "      <td>2</td>\n",
       "      <td>0</td>\n",
       "      <td>0</td>\n",
       "      <td>1</td>\n",
       "      <td>0</td>\n",
       "      <td>N</td>\n",
       "      <td>Y</td>\n",
       "      <td>NaN</td>\n",
       "      <td>1999-02-28</td>\n",
       "      <td>60000.0</td>\n",
       "      <td>$0.00</td>\n",
       "      <td>1</td>\n",
       "      <td>0.0</td>\n",
       "      <td>60000.0</td>\n",
       "      <td>48000.0</td>\n",
       "    </tr>\n",
       "  </tbody>\n",
       "</table>\n",
       "</div>"
      ],
      "text/plain": [
       "  LoanNr_ChkDgt            Name        City State    Zip              Bank  \\\n",
       "0    1000014003  ABC HOBBYCRAFT  EVANSVILLE    IN  47711  FIFTH THIRD BANK   \n",
       "\n",
       "  BankState NAICS ApprovalDate  ApprovalFY  Term  NoEmp NewExist  CreateJob  \\\n",
       "0        OH    45   1997-02-28        1997    84      4        2          0   \n",
       "\n",
       "   RetainedJob  FranchiseCode UrbanRural RevLineCr LowDoc ChgOffDate  \\\n",
       "0            0              1          0         N      Y        NaN   \n",
       "\n",
       "  DisbursementDate  DisbursementGross BalanceGross MIS_Status  ChgOffPrinGr  \\\n",
       "0       1999-02-28            60000.0       $0.00           1           0.0   \n",
       "\n",
       "    GrAppv  SBA_Appv  \n",
       "0  60000.0   48000.0  "
      ]
     },
     "execution_count": 556,
     "metadata": {},
     "output_type": "execute_result"
    }
   ],
   "source": [
    "df_sba.LowDoc = df_sba.LowDoc.replace(r'[C1SRA0]', np.nan, regex=True)\n",
    "df_sba.RevLineCr = df_sba.RevLineCr.replace(r'[0T`1C32R7A5\\.,4\\-Q]', np.nan, regex=True)\n",
    "df_sba.NewExist = df_sba.NewExist.replace(r'[0]', np.nan, regex=True)\n",
    "\n",
    "df_sba.FranchiseCode = df_sba.FranchiseCode.astype(int)\n",
    "df_sba.FranchiseCode[df_sba.FranchiseCode > 0] = 1\n",
    "\n",
    "df_sba.head(1)\n"
   ]
  },
  {
   "cell_type": "code",
   "execution_count": 557,
   "metadata": {},
   "outputs": [
    {
     "data": {
      "text/html": [
       "<div>\n",
       "<style scoped>\n",
       "    .dataframe tbody tr th:only-of-type {\n",
       "        vertical-align: middle;\n",
       "    }\n",
       "\n",
       "    .dataframe tbody tr th {\n",
       "        vertical-align: top;\n",
       "    }\n",
       "\n",
       "    .dataframe thead th {\n",
       "        text-align: right;\n",
       "    }\n",
       "</style>\n",
       "<table border=\"1\" class=\"dataframe\">\n",
       "  <thead>\n",
       "    <tr style=\"text-align: right;\">\n",
       "      <th></th>\n",
       "      <th>GrAppv</th>\n",
       "    </tr>\n",
       "  </thead>\n",
       "  <tbody>\n",
       "    <tr>\n",
       "      <th>count</th>\n",
       "      <td>6007.00</td>\n",
       "    </tr>\n",
       "    <tr>\n",
       "      <th>mean</th>\n",
       "      <td>189969.72</td>\n",
       "    </tr>\n",
       "    <tr>\n",
       "      <th>std</th>\n",
       "      <td>257724.13</td>\n",
       "    </tr>\n",
       "    <tr>\n",
       "      <th>min</th>\n",
       "      <td>2500.00</td>\n",
       "    </tr>\n",
       "    <tr>\n",
       "      <th>25%</th>\n",
       "      <td>25000.00</td>\n",
       "    </tr>\n",
       "    <tr>\n",
       "      <th>50%</th>\n",
       "      <td>100000.00</td>\n",
       "    </tr>\n",
       "    <tr>\n",
       "      <th>75%</th>\n",
       "      <td>250000.00</td>\n",
       "    </tr>\n",
       "    <tr>\n",
       "      <th>max</th>\n",
       "      <td>2725000.00</td>\n",
       "    </tr>\n",
       "  </tbody>\n",
       "</table>\n",
       "</div>"
      ],
      "text/plain": [
       "           GrAppv\n",
       "count     6007.00\n",
       "mean    189969.72\n",
       "std     257724.13\n",
       "min       2500.00\n",
       "25%      25000.00\n",
       "50%     100000.00\n",
       "75%     250000.00\n",
       "max    2725000.00"
      ]
     },
     "execution_count": 557,
     "metadata": {},
     "output_type": "execute_result"
    }
   ],
   "source": [
    "np.round(df_sba[['LowDoc', 'GrAppv']].loc[df_sba.LowDoc.isna()].describe(), 2)\n"
   ]
  },
  {
   "cell_type": "markdown",
   "metadata": {},
   "source": [
    "## Imputer\n",
    "### LowDoc RevLineCr NewExist"
   ]
  },
  {
   "cell_type": "code",
   "execution_count": 558,
   "metadata": {},
   "outputs": [
    {
     "data": {
      "text/html": [
       "<div>\n",
       "<style scoped>\n",
       "    .dataframe tbody tr th:only-of-type {\n",
       "        vertical-align: middle;\n",
       "    }\n",
       "\n",
       "    .dataframe tbody tr th {\n",
       "        vertical-align: top;\n",
       "    }\n",
       "\n",
       "    .dataframe thead th {\n",
       "        text-align: right;\n",
       "    }\n",
       "</style>\n",
       "<table border=\"1\" class=\"dataframe\">\n",
       "  <thead>\n",
       "    <tr style=\"text-align: right;\">\n",
       "      <th></th>\n",
       "      <th>LoanNr_ChkDgt</th>\n",
       "      <th>Name</th>\n",
       "      <th>City</th>\n",
       "      <th>State</th>\n",
       "      <th>Zip</th>\n",
       "      <th>Bank</th>\n",
       "      <th>BankState</th>\n",
       "      <th>NAICS</th>\n",
       "      <th>ApprovalDate</th>\n",
       "      <th>ApprovalFY</th>\n",
       "      <th>Term</th>\n",
       "      <th>NoEmp</th>\n",
       "      <th>NewExist</th>\n",
       "      <th>CreateJob</th>\n",
       "      <th>RetainedJob</th>\n",
       "      <th>FranchiseCode</th>\n",
       "      <th>UrbanRural</th>\n",
       "      <th>RevLineCr</th>\n",
       "      <th>LowDoc</th>\n",
       "      <th>ChgOffDate</th>\n",
       "      <th>DisbursementDate</th>\n",
       "      <th>DisbursementGross</th>\n",
       "      <th>BalanceGross</th>\n",
       "      <th>MIS_Status</th>\n",
       "      <th>ChgOffPrinGr</th>\n",
       "      <th>GrAppv</th>\n",
       "      <th>SBA_Appv</th>\n",
       "    </tr>\n",
       "  </thead>\n",
       "  <tbody>\n",
       "    <tr>\n",
       "      <th>0</th>\n",
       "      <td>1000014003</td>\n",
       "      <td>ABC HOBBYCRAFT</td>\n",
       "      <td>EVANSVILLE</td>\n",
       "      <td>IN</td>\n",
       "      <td>47711</td>\n",
       "      <td>FIFTH THIRD BANK</td>\n",
       "      <td>OH</td>\n",
       "      <td>45</td>\n",
       "      <td>1997-02-28</td>\n",
       "      <td>1997</td>\n",
       "      <td>84</td>\n",
       "      <td>4</td>\n",
       "      <td>2</td>\n",
       "      <td>0</td>\n",
       "      <td>0</td>\n",
       "      <td>1</td>\n",
       "      <td>0</td>\n",
       "      <td>0</td>\n",
       "      <td>1</td>\n",
       "      <td>NaN</td>\n",
       "      <td>1999-02-28</td>\n",
       "      <td>60000.0</td>\n",
       "      <td>$0.00</td>\n",
       "      <td>1</td>\n",
       "      <td>0.0</td>\n",
       "      <td>60000.0</td>\n",
       "      <td>48000.0</td>\n",
       "    </tr>\n",
       "  </tbody>\n",
       "</table>\n",
       "</div>"
      ],
      "text/plain": [
       "  LoanNr_ChkDgt            Name        City State    Zip              Bank  \\\n",
       "0    1000014003  ABC HOBBYCRAFT  EVANSVILLE    IN  47711  FIFTH THIRD BANK   \n",
       "\n",
       "  BankState NAICS ApprovalDate  ApprovalFY  Term  NoEmp NewExist  CreateJob  \\\n",
       "0        OH    45   1997-02-28        1997    84      4        2          0   \n",
       "\n",
       "   RetainedJob  FranchiseCode UrbanRural RevLineCr  LowDoc ChgOffDate  \\\n",
       "0            0              1          0         0       1        NaN   \n",
       "\n",
       "  DisbursementDate  DisbursementGross BalanceGross MIS_Status  ChgOffPrinGr  \\\n",
       "0       1999-02-28            60000.0       $0.00           1           0.0   \n",
       "\n",
       "    GrAppv  SBA_Appv  \n",
       "0  60000.0   48000.0  "
      ]
     },
     "execution_count": 558,
     "metadata": {},
     "output_type": "execute_result"
    }
   ],
   "source": [
    "from feature_engine.imputation import RandomSampleImputer\n",
    "imputer = RandomSampleImputer()\n",
    "# LowDoc\n",
    "\n",
    "df_sba.LowDoc = np.where(df_sba.LowDoc.isna(), \n",
    "                    np.where(df_sba.GrAppv < 150000, 1, 0), \n",
    "                    np.where(df_sba.GrAppv >= 150000, 0, 1))\n",
    "\n",
    "#display(np.round(df_sba['LowDoc'].value_counts(), 2))\n",
    "\n",
    "# RevLineCr\n",
    "result = imputer.fit_transform(df_sba.loc[:,['RevLineCr']])\n",
    "df_sba.RevLineCr = result['RevLineCr']\n",
    "df_sba.RevLineCr = LabelBinarizer().fit_transform(df_sba.loc[:,['RevLineCr']])\n",
    "df_sba.RevLineCr = df_sba.RevLineCr.astype('category')\n",
    "\n",
    "# NewExist\n",
    "result = imputer.fit_transform(df_sba.loc[:,['NewExist']])\n",
    "df_sba.NewExist = result['NewExist']\n",
    "imputer = CategoricalImputer(imputation_method='frequent', variables=['NewExist'])\n",
    "df_sba = imputer.fit_transform(df_sba)\n",
    "df_sba.NewExist = df_sba.NewExist.astype('category')\n",
    "\n",
    "# on remplace les na de BankState avec la valeur de State (fortement corrélés)\n",
    "df_sba.BankState = np.where(df_sba.BankState.isna(), df_sba.State, df_sba.BankState)\n",
    "# Il en reste 1. City = Pennsville -> New Jersey -> BankState = NJ\n",
    "df_sba.BankState = np.where(df_sba.BankState.isna(), 'NJ', df_sba.BankState)\n",
    "# On supprime State\n",
    "# df_sba.drop(columns=['State'], inplace=True)\n",
    "\n",
    "df_sba.head(1)\n",
    "\n"
   ]
  },
  {
   "cell_type": "code",
   "execution_count": 560,
   "metadata": {},
   "outputs": [
    {
     "ename": "",
     "evalue": "",
     "output_type": "error",
     "traceback": [
      "\u001b[1;31mThe Kernel crashed while executing code in the the current cell or a previous cell. Please review the code in the cell(s) to identify a possible cause of the failure. Click <a href='https://aka.ms/vscodeJupyterKernelCrash'>here</a> for more info. View Jupyter <a href='command:jupyter.viewOutput'>log</a> for further details."
     ]
    }
   ],
   "source": [
    "df_sba.to_pickle('data/SBAmodel.pickle')"
   ]
  },
  {
   "cell_type": "code",
   "execution_count": 532,
   "metadata": {},
   "outputs": [
    {
     "name": "stdout",
     "output_type": "stream",
     "text": [
      "<class 'pandas.core.frame.DataFrame'>\n",
      "RangeIndex: 899164 entries, 0 to 899163\n",
      "Data columns (total 27 columns):\n",
      " #   Column             Non-Null Count   Dtype         \n",
      "---  ------             --------------   -----         \n",
      " 0   LoanNr_ChkDgt      899164 non-null  object        \n",
      " 1   Name               899150 non-null  object        \n",
      " 2   City               899134 non-null  object        \n",
      " 3   State              899150 non-null  category      \n",
      " 4   Zip                899164 non-null  category      \n",
      " 5   Bank               897605 non-null  object        \n",
      " 6   BankState          899164 non-null  category      \n",
      " 7   NAICS              899164 non-null  category      \n",
      " 8   ApprovalDate       899164 non-null  datetime64[ns]\n",
      " 9   ApprovalFY         899164 non-null  int64         \n",
      " 10  Term               899164 non-null  int64         \n",
      " 11  NoEmp              899164 non-null  int64         \n",
      " 12  NewExist           899164 non-null  category      \n",
      " 13  CreateJob          899164 non-null  int64         \n",
      " 14  RetainedJob        899164 non-null  int64         \n",
      " 15  FranchiseCode      899164 non-null  category      \n",
      " 16  UrbanRural         899164 non-null  category      \n",
      " 17  RevLineCr          899164 non-null  category      \n",
      " 18  LowDoc             899164 non-null  int64         \n",
      " 19  ChgOffDate         162699 non-null  object        \n",
      " 20  DisbursementDate   896796 non-null  datetime64[ns]\n",
      " 21  DisbursementGross  899164 non-null  float64       \n",
      " 22  BalanceGross       899164 non-null  object        \n",
      " 23  MIS_Status         899164 non-null  category      \n",
      " 24  ChgOffPrinGr       899164 non-null  float64       \n",
      " 25  GrAppv             899164 non-null  float64       \n",
      " 26  SBA_Appv           899164 non-null  float64       \n",
      "dtypes: category(9), datetime64[ns](2), float64(4), int64(6), object(6)\n",
      "memory usage: 136.0+ MB\n"
     ]
    },
    {
     "name": "stderr",
     "output_type": "stream",
     "text": [
      "/Users/maximekuil/Documents/Simplon/US-SBA/.venv/lib/python3.11/site-packages/sklearn/preprocessing/_label.py:114: DataConversionWarning: A column-vector y was passed when a 1d array was expected. Please change the shape of y to (n_samples, ), for example using ravel().\n",
      "  y = column_or_1d(y, warn=True)\n"
     ]
    }
   ],
   "source": [
    "from sklearn.preprocessing import LabelEncoder\n",
    "\n",
    "le = LabelEncoder()\n",
    "df_sba.BankState = le.fit_transform(df_sba.loc[:,['BankState']])\n",
    "df_sba.BankState = df_sba.BankState.astype('category')\n",
    "\n",
    "df_sba.info()"
   ]
  },
  {
   "cell_type": "code",
   "execution_count": 533,
   "metadata": {},
   "outputs": [],
   "source": [
    "df_sba.to_pickle('data/SBAmodel.pickle')"
   ]
  },
  {
   "cell_type": "code",
   "execution_count": 274,
   "metadata": {},
   "outputs": [
    {
     "name": "stdout",
     "output_type": "stream",
     "text": [
      "0\n"
     ]
    },
    {
     "data": {
      "text/plain": [
       "<Axes: >"
      ]
     },
     "execution_count": 274,
     "metadata": {},
     "output_type": "execute_result"
    },
    {
     "data": {
      "image/png": "[encoded data removed]",
      "text/plain": [
       "<Figure size 2500x1000 with 2 Axes>"
      ]
     },
     "metadata": {},
     "output_type": "display_data"
    }
   ],
   "source": [
    "df_sba.head()\n",
    "\n",
    "print(df_sba.MIS_Status.isna().sum())\n",
    "\n",
    "import missingno as msno\n",
    "msno.matrix(df_sba)"
   ]
  },
  {
   "cell_type": "code",
   "execution_count": 227,
   "metadata": {},
   "outputs": [
    {
     "name": "stderr",
     "output_type": "stream",
     "text": [
      "Feature: MIS_Status (TARGET)                 |▌         | [  5%]   01:10 -> (22:15 left)\n",
      "Feature: GrAppv                              |██████████| [100%]   00:07 -> (00:00 left)\n"
     ]
    },
    {
     "name": "stdout",
     "output_type": "stream",
     "text": [
      "Report sweetviz_eda/brut.html was generated! NOTEBOOK/COLAB USERS: the web browser MAY not pop up, regardless, the report IS saved in your notebook/colab files.\n"
     ]
    }
   ],
   "source": [
    "import sweetviz as sv\n",
    "#print(df_sba.info())\n",
    "feature_config = sv.FeatureConfig(force_num=[\"MIS_Status\"])\n",
    "df_sba.MIS_Status = df_sba.MIS_Status.astype(bool)\n",
    "sweet_report = sv.analyze(df_sba, 'MIS_Status', pairwise_analysis='off')\n",
    "sweet_report.show_html(filepath='sweetviz_eda/brut.html')"
   ]
  },
  {
   "cell_type": "code",
   "execution_count": null,
   "metadata": {},
   "outputs": [],
   "source": [
    "# sweet_report = sv.compare_intra(df_sba, df_sba[\"Bank\"] == \"BANK OF AMERICA NATL ASSOC\", ['BANK OF AMERICA NATL ASSOC', 'Autre'], \"MIS_Status\", feature_config)\n",
    "# sweet_report.show_html()"
   ]
  }
 ],
 "metadata": {
  "kernelspec": {
   "display_name": "Python 3",
   "language": "python",
   "name": "python3"
  },
  "language_info": {
   "codemirror_mode": {
    "name": "ipython",
    "version": 3
   },
   "file_extension": ".py",
   "mimetype": "text/x-python",
   "name": "python",
   "nbconvert_exporter": "python",
   "pygments_lexer": "ipython3",
   "version": "3.11.2"
  }
 },
 "nbformat": 4,
 "nbformat_minor": 2
}
